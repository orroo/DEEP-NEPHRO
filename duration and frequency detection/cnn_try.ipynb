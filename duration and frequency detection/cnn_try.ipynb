{
 "cells": [
  {
   "cell_type": "code",
   "execution_count": 1,
   "id": "a186bfbc",
   "metadata": {},
   "outputs": [],
   "source": [
    "# import matplotlib.pyplot as plt \n",
    "import pandas as pd\n",
    "import torch.nn as nn\n",
    "import torch\n",
    "# import torch.nn.functional as F\n",
    "import numpy as np"
   ]
  },
  {
   "cell_type": "code",
   "execution_count": 2,
   "id": "bd2f99bf",
   "metadata": {},
   "outputs": [],
   "source": [
    "df1 = pd.read_csv('ready_data.csv') "
   ]
  },
  {
   "cell_type": "code",
   "execution_count": 3,
   "id": "143e64b1",
   "metadata": {},
   "outputs": [
    {
     "name": "stdout",
     "output_type": "stream",
     "text": [
      "<class 'pandas.core.frame.DataFrame'>\n",
      "RangeIndex: 48392 entries, 0 to 48391\n",
      "Data columns (total 54 columns):\n",
      " #   Column                    Non-Null Count  Dtype  \n",
      "---  ------                    --------------  -----  \n",
      " 0   pid                       48392 non-null  int64  \n",
      " 1   datatime                  48392 non-null  object \n",
      " 2   sbp                       48392 non-null  float64\n",
      " 3   dbp                       48392 non-null  float64\n",
      " 4   temperature               48392 non-null  float64\n",
      " 5   conductivity              48392 non-null  float64\n",
      " 6   uf                        48392 non-null  float64\n",
      " 7   blood_flow                48392 non-null  float64\n",
      " 8   gender                    48392 non-null  float64\n",
      " 9   birthday                  48392 non-null  float64\n",
      " 10  first_dialysis            48392 non-null  object \n",
      " 11  DM                        48392 non-null  float64\n",
      " 12  keyindate                 48392 non-null  object \n",
      " 13  dialysisstart             48392 non-null  object \n",
      " 14  dialysisend               48392 non-null  object \n",
      " 15  weightstart               48392 non-null  float64\n",
      " 16  weightend                 48392 non-null  float64\n",
      " 17  dryweight                 48392 non-null  float64\n",
      " 18  pulse                     48392 non-null  float64\n",
      " 19  respiratory_rate          48392 non-null  float64\n",
      " 20  blood_oxygen_lvl          48392 non-null  float64\n",
      " 21  glucose_lvl               48392 non-null  float64\n",
      " 22  hypotension               48392 non-null  float64\n",
      " 23  age                       48392 non-null  float64\n",
      " 24  dialyzer                  48392 non-null  float64\n",
      " 25  bath                      48392 non-null  float64\n",
      " 26  technique                 48392 non-null  float64\n",
      " 27  gain                      48392 non-null  float64\n",
      " 28  bath_temperature          48392 non-null  float64\n",
      " 29  replacement_Volume        48392 non-null  float64\n",
      " 30  kt                        48392 non-null  float64\n",
      " 31  Bath_Flow                 48392 non-null  float64\n",
      " 32  bicarbonate_conductivity  48392 non-null  float64\n",
      " 33  arterial_Pressure         48392 non-null  float64\n",
      " 34  Venous_Pressure           48392 non-null  float64\n",
      " 35  transmembrane_Pressure    48392 non-null  float64\n",
      " 36  avg_weekly_sessions       48392 non-null  float64\n",
      " 37  Dialysis_Duration         48392 non-null  float64\n",
      " 38  De_hour                   48392 non-null  int64  \n",
      " 39  De_minutes                48392 non-null  int64  \n",
      " 40  Ds_hour                   48392 non-null  int64  \n",
      " 41  Ds_minutes                48392 non-null  int64  \n",
      " 42  session_year              48392 non-null  int64  \n",
      " 43  session_month             48392 non-null  int64  \n",
      " 44  session_dayofweek         48392 non-null  int64  \n",
      " 45  session_is_weekend        48392 non-null  int64  \n",
      " 46  year                      48392 non-null  int64  \n",
      " 47  month                     48392 non-null  int64  \n",
      " 48  dayofweek                 48392 non-null  int64  \n",
      " 49  is_weekend                48392 non-null  int64  \n",
      " 50  hour                      48392 non-null  int64  \n",
      " 51  minutes                   48392 non-null  int64  \n",
      " 52  fd_year                   48392 non-null  int64  \n",
      " 53  fd_month                  48392 non-null  int64  \n",
      "dtypes: float64(32), int64(17), object(5)\n",
      "memory usage: 19.9+ MB\n"
     ]
    }
   ],
   "source": [
    "df1.info()"
   ]
  },
  {
   "cell_type": "code",
   "execution_count": 4,
   "id": "ca5f807d",
   "metadata": {},
   "outputs": [
    {
     "data": {
      "text/plain": [
       "Index(['pid', 'datatime', 'sbp', 'dbp', 'temperature', 'conductivity', 'uf',\n",
       "       'blood_flow', 'gender', 'birthday', 'first_dialysis', 'DM', 'keyindate',\n",
       "       'dialysisstart', 'dialysisend', 'weightstart', 'weightend', 'dryweight',\n",
       "       'pulse', 'respiratory_rate', 'blood_oxygen_lvl', 'glucose_lvl',\n",
       "       'hypotension', 'age', 'dialyzer', 'bath', 'technique', 'gain',\n",
       "       'bath_temperature', 'replacement_Volume', 'kt', 'Bath_Flow',\n",
       "       'bicarbonate_conductivity', 'arterial_Pressure', 'Venous_Pressure',\n",
       "       'transmembrane_Pressure', 'avg_weekly_sessions', 'Dialysis_Duration',\n",
       "       'De_hour', 'De_minutes', 'Ds_hour', 'Ds_minutes', 'session_year',\n",
       "       'session_month', 'session_dayofweek', 'session_is_weekend', 'year',\n",
       "       'month', 'dayofweek', 'is_weekend', 'hour', 'minutes', 'fd_year',\n",
       "       'fd_month'],\n",
       "      dtype='object')"
      ]
     },
     "execution_count": 4,
     "metadata": {},
     "output_type": "execute_result"
    }
   ],
   "source": [
    "df1.columns\n"
   ]
  },
  {
   "cell_type": "code",
   "execution_count": 5,
   "id": "5bbf1c02",
   "metadata": {},
   "outputs": [
    {
     "name": "stderr",
     "output_type": "stream",
     "text": [
      "C:\\Users\\omarr\\AppData\\Local\\Packages\\PythonSoftwareFoundation.Python.3.12_qbz5n2kfra8p0\\LocalCache\\local-packages\\Python312\\site-packages\\tqdm\\auto.py:21: TqdmWarning: IProgress not found. Please update jupyter and ipywidgets. See https://ipywidgets.readthedocs.io/en/stable/user_install.html\n",
      "  from .autonotebook import tqdm as notebook_tqdm\n"
     ]
    },
    {
     "data": {
      "text/html": [
       "\n",
       "            <div>\n",
       "                <ins><a href=\"https://ydata.ai/register\">Upgrade to ydata-sdk</a></ins>\n",
       "                <p>\n",
       "                    Improve your data and profiling with ydata-sdk, featuring data quality scoring, redundancy detection, outlier identification, text validation, and synthetic data generation.\n",
       "                </p>\n",
       "            </div>\n",
       "            "
      ],
      "text/plain": [
       "<IPython.core.display.HTML object>"
      ]
     },
     "metadata": {},
     "output_type": "display_data"
    }
   ],
   "source": [
    "from ydata_profiling import ProfileReport"
   ]
  },
  {
   "cell_type": "code",
   "execution_count": 6,
   "id": "03b9cf6b",
   "metadata": {},
   "outputs": [],
   "source": [
    "test_df= df1[\n",
    "    \n",
    "    ['sbp', 'dbp', 'temperature', 'conductivity', 'uf',\n",
    "       'blood_flow', 'gender', 'birthday', 'DM',\n",
    "        'weightstart', 'weightend', 'dryweight',\n",
    "       'pulse', 'respiratory_rate', 'blood_oxygen_lvl', 'glucose_lvl',\n",
    "       'hypotension', 'age', 'dialyzer', 'bath', 'technique', 'gain',\n",
    "       'bath_temperature', 'replacement_Volume', 'kt', 'Bath_Flow',\n",
    "       'bicarbonate_conductivity', 'arterial_Pressure', 'Venous_Pressure',\n",
    "       'transmembrane_Pressure', \n",
    "        'Ds_hour', 'Ds_minutes', 'session_year',\n",
    "       'session_month', 'session_dayofweek', 'session_is_weekend', 'year',\n",
    "       'month', 'dayofweek', 'is_weekend', 'hour', 'minutes', 'fd_year',\n",
    "       'fd_month']]\n",
    "    \n",
    "    \n",
    "#     ['Age', 'Gender', 'Weight', 'Diabetes', 'Hypertension',\n",
    "#        'Kidney Failure Cause', 'Pre-Dialysis Blood Pressure',\n",
    "#        'During-Dialysis Blood Pressure', 'Post-Dialysis Blood Pressure',\n",
    "#        'Heart Rate', 'Creatinine', 'Urea', 'Potassium', 'Hemoglobin',\n",
    "#        'Hematocrit', 'Albumin', \n",
    "#        'Dialysis Frequency (per week)', 'Dialysate Composition',\n",
    "#        'Vascular Access Type', 'Dialyzer Type', 'Kt/V', 'URR',\n",
    "#        'Urine Output (ml/day)', 'Dry Weight (kg)',\n",
    "#        'Fluid Removal Rate (ml/hour)', 'Disease Severity']]\n",
    "    \n",
    "    \n",
    "    \n",
    "    \n",
    "    \n",
    "    \n",
    "    "
   ]
  },
  {
   "cell_type": "code",
   "execution_count": 7,
   "id": "5006e2dc",
   "metadata": {},
   "outputs": [],
   "source": [
    "Y = df1['Dialysis_Duration']\n",
    "# pd.DataFrame( df1['Dialysis_Duration'])"
   ]
  },
  {
   "cell_type": "code",
   "execution_count": 8,
   "id": "095fd3cc",
   "metadata": {},
   "outputs": [],
   "source": [
    "Y1 = df1['avg_weekly_sessions']"
   ]
  },
  {
   "cell_type": "code",
   "execution_count": 9,
   "id": "9e613e62",
   "metadata": {},
   "outputs": [],
   "source": [
    "# Y[\"session\"] = Y1"
   ]
  },
  {
   "cell_type": "code",
   "execution_count": 9,
   "id": "e3fd0e7e",
   "metadata": {},
   "outputs": [
    {
     "data": {
      "text/plain": [
       "0        240.0\n",
       "1        240.0\n",
       "2        240.0\n",
       "3        240.0\n",
       "4        240.0\n",
       "         ...  \n",
       "48387    240.0\n",
       "48388    240.0\n",
       "48389    240.0\n",
       "48390    240.0\n",
       "48391    240.0\n",
       "Name: Dialysis_Duration, Length: 48392, dtype: float64"
      ]
     },
     "execution_count": 9,
     "metadata": {},
     "output_type": "execute_result"
    }
   ],
   "source": [
    "Y"
   ]
  },
  {
   "cell_type": "code",
   "execution_count": 10,
   "id": "e567136e",
   "metadata": {},
   "outputs": [
    {
     "data": {
      "image/png": "[encoded data removed]",
      "text/plain": [
       "<Figure size 640x480 with 1 Axes>"
      ]
     },
     "metadata": {},
     "output_type": "display_data"
    }
   ],
   "source": [
    "import matplotlib.pyplot as plt\n",
    "\n",
    "plt.hist(Y, bins=50)\n",
    "plt.xlabel(\"Target value\")\n",
    "plt.ylabel(\"Frequency\")\n",
    "plt.title(\"Distribution of target values\")\n",
    "plt.show()\n"
   ]
  },
  {
   "cell_type": "code",
   "execution_count": 11,
   "id": "6d10e87f",
   "metadata": {},
   "outputs": [
    {
     "data": {
      "image/png": "[encoded data removed]",
      "text/plain": [
       "<Figure size 640x480 with 1 Axes>"
      ]
     },
     "metadata": {},
     "output_type": "display_data"
    }
   ],
   "source": [
    "import matplotlib.pyplot as plt\n",
    "\n",
    "plt.hist(Y1, bins=50)\n",
    "plt.xlabel(\"Target value\")\n",
    "plt.ylabel(\"Frequency\")\n",
    "plt.title(\"Distribution of target values\")\n",
    "plt.show()\n"
   ]
  },
  {
   "cell_type": "code",
   "execution_count": 12,
   "id": "11453dfe",
   "metadata": {},
   "outputs": [
    {
     "data": {
      "text/plain": [
       "Dialysis_Duration\n",
       "240.0    40019\n",
       "210.0      837\n",
       "241.0      504\n",
       "242.0      420\n",
       "238.0      399\n",
       "         ...  \n",
       "191.0        1\n",
       "122.0        1\n",
       "144.0        1\n",
       "315.0        1\n",
       "360.0        1\n",
       "Name: count, Length: 129, dtype: int64"
      ]
     },
     "execution_count": 12,
     "metadata": {},
     "output_type": "execute_result"
    }
   ],
   "source": [
    "Y.value_counts()"
   ]
  },
  {
   "cell_type": "code",
   "execution_count": 13,
   "id": "60339397",
   "metadata": {},
   "outputs": [
    {
     "name": "stdout",
     "output_type": "stream",
     "text": [
      "<class 'pandas.core.series.Series'>\n",
      "RangeIndex: 48392 entries, 0 to 48391\n",
      "Series name: Dialysis_Duration\n",
      "Non-Null Count  Dtype  \n",
      "--------------  -----  \n",
      "48392 non-null  float64\n",
      "dtypes: float64(1)\n",
      "memory usage: 378.2 KB\n"
     ]
    }
   ],
   "source": [
    "Y.info()"
   ]
  },
  {
   "cell_type": "code",
   "execution_count": 14,
   "id": "58e24abb",
   "metadata": {},
   "outputs": [],
   "source": [
    "\n",
    "# # Count the occurrences of each class (already present in Y)\n",
    "# class_counts = Y.value_counts()\n",
    "\n",
    "# # Set up the sampling strategy to ensure each class gets at least 1000 samples\n",
    "# sampling_strategy = {label: max(count, 1000) for label, count in class_counts.items()}\n",
    "\n",
    "# # Print the strategy to confirm\n",
    "# print(sampling_strategy)"
   ]
  },
  {
   "cell_type": "code",
   "execution_count": 14,
   "id": "fa763f85",
   "metadata": {},
   "outputs": [],
   "source": [
    "from imblearn.over_sampling import RandomOverSampler\n",
    "import pandas as pd\n",
    "import numpy as np\n",
    "\n",
    "# Assume Y is the Dialysis_Duration (continuous)\n",
    "# Assume average_weekly_sessions is a float series\n",
    "\n",
    "# Step 1: Bin Dialysis_Duration\n",
    "bin_edges_duration = np.linspace(Y.min(), Y.max(), num=40)  # 10 bins\n",
    "Y_binned = pd.cut(Y, bins=bin_edges_duration, labels=False, include_lowest=True)\n",
    "\n",
    "# Step 2: Bin average_weekly_sessions (you can adjust number of bins)\n",
    "bin_edges_sessions = np.linspace(Y1.min(), Y1.max(), num=40)\n",
    "sessions_binned = pd.cut(Y1, bins=bin_edges_sessions, labels=False, include_lowest=True)\n",
    "\n",
    "# Step 3: Combine both binned features\n",
    "combined_target = Y_binned.astype(str) + \"_\" + sessions_binned.astype(str)\n",
    "\n",
    "# Step 4: Define sampling strategy — set each bin-combo to 1000 samples\n",
    "sampling_strategy = {label: 50000 for label in combined_target.unique()}\n",
    "\n",
    "# Step 5: Apply oversampling\n",
    "ros = RandomOverSampler(sampling_strategy=sampling_strategy, random_state=42)\n",
    "X_resampled, combined_resampled = ros.fit_resample(test_df, combined_target)\n",
    "\n",
    "# Step 6: Reverse the label split\n",
    "resampled_df = pd.DataFrame({\"combined\": combined_resampled})\n",
    "resampled_df[[\"bin_dur\", \"bin_sess\"]] = resampled_df[\"combined\"].str.split(\"_\", expand=True).astype(int)\n",
    "\n",
    "# Map back to continuous values (using bin centers)\n",
    "bin_means_duration = [(bin_edges_duration[i] + bin_edges_duration[i+1]) / 2 for i in range(len(bin_edges_duration) - 1)]\n",
    "bin_means_sessions = [(bin_edges_sessions[i] + bin_edges_sessions[i+1]) / 2 for i in range(len(bin_edges_sessions) - 1)]\n",
    "\n",
    "resampled_df[\"Dialysis_Duration\"] = resampled_df[\"bin_dur\"].map(lambda x: bin_means_duration[x])\n",
    "resampled_df[\"Average_Weekly_Sessions\"] = resampled_df[\"bin_sess\"].map(lambda x: bin_means_sessions[x])\n",
    "\n",
    "# Final outputs\n",
    "y_duration_resampled = resampled_df[\"Dialysis_Duration\"]\n",
    "y_sessions_resampled = resampled_df[\"Average_Weekly_Sessions\"]\n"
   ]
  },
  {
   "cell_type": "code",
   "execution_count": 28,
   "id": "1bf79ec6",
   "metadata": {},
   "outputs": [
    {
     "data": {
      "image/png": "[encoded data removed]",
      "text/plain": [
       "<Figure size 1800x500 with 1 Axes>"
      ]
     },
     "metadata": {},
     "output_type": "display_data"
    }
   ],
   "source": [
    "# Count each combined label\n",
    "combined_counts = resampled_df[\"combined\"].value_counts().sort_index()\n",
    "\n",
    "plt.figure(figsize=(18, 5))\n",
    "combined_counts.plot(kind='bar', color='skyblue')\n",
    "plt.title(\"Distribution of Combined Bins After Oversampling\")\n",
    "plt.xlabel(\"Combined Bin (Duration_Session)\")\n",
    "plt.ylabel(\"Count\")\n",
    "plt.xticks(rotation=90)\n",
    "plt.tight_layout()\n",
    "plt.show()\n"
   ]
  },
  {
   "cell_type": "code",
   "execution_count": 29,
   "id": "bbe49d88",
   "metadata": {},
   "outputs": [
    {
     "data": {
      "image/png": "[encoded data removed]",
      "text/plain": [
       "<Figure size 1200x800 with 2 Axes>"
      ]
     },
     "metadata": {},
     "output_type": "display_data"
    }
   ],
   "source": [
    "import seaborn as sns\n",
    "import matplotlib.pyplot as plt\n",
    "\n",
    "# Count occurrences of each bin combination\n",
    "pivot_table = resampled_df.pivot_table(index=\"bin_dur\", columns=\"bin_sess\", aggfunc=\"size\", fill_value=0)\n",
    "\n",
    "plt.figure(figsize=(12, 8))\n",
    "sns.heatmap(pivot_table, cmap=\"Blues\", annot=True, fmt=\"d\")\n",
    "plt.title(\"Heatmap of Resampled Bin Combinations (Dialysis_Duration vs Avg Weekly Sessions)\")\n",
    "plt.xlabel(\"Average Weekly Sessions Bin\")\n",
    "plt.ylabel(\"Dialysis Duration Bin\")\n",
    "plt.tight_layout()\n",
    "plt.show()\n"
   ]
  },
  {
   "cell_type": "code",
   "execution_count": 16,
   "id": "3f0f31c7",
   "metadata": {},
   "outputs": [],
   "source": [
    "# df = X_resampled"
   ]
  },
  {
   "cell_type": "code",
   "execution_count": 17,
   "id": "393a2749",
   "metadata": {},
   "outputs": [],
   "source": [
    "# df['Dialysis_Duration'] = y_duration_resampled"
   ]
  },
  {
   "cell_type": "code",
   "execution_count": 18,
   "id": "34c74b39",
   "metadata": {},
   "outputs": [],
   "source": [
    "# df['session'] = y_sessions_resampled"
   ]
  },
  {
   "cell_type": "code",
   "execution_count": 19,
   "id": "ad1c09e4",
   "metadata": {},
   "outputs": [],
   "source": [
    "# df.Dialysis_Duration"
   ]
  },
  {
   "cell_type": "code",
   "execution_count": 20,
   "id": "94bc44a9",
   "metadata": {},
   "outputs": [],
   "source": [
    "\n",
    "# # Create the profile\n",
    "# profile = ProfileReport(df, title=\"Dataset Profiling Report\", explorative=True)\n",
    "\n",
    "# profile.to_file(\"dataset_profile_cnn.html\")"
   ]
  },
  {
   "cell_type": "code",
   "execution_count": 15,
   "id": "698e12a7",
   "metadata": {},
   "outputs": [],
   "source": [
    "Y= pd.DataFrame( y_duration_resampled)"
   ]
  },
  {
   "cell_type": "code",
   "execution_count": 16,
   "id": "95f7ba75",
   "metadata": {},
   "outputs": [],
   "source": [
    "Y['session']= y_sessions_resampled"
   ]
  },
  {
   "cell_type": "code",
   "execution_count": 23,
   "id": "49f3fb34",
   "metadata": {},
   "outputs": [],
   "source": [
    "# X_resampled = X_resampled.drop(columns='avg_weekly_sessions')"
   ]
  },
  {
   "cell_type": "code",
   "execution_count": 17,
   "id": "5939edb3",
   "metadata": {},
   "outputs": [
    {
     "data": {
      "text/plain": [
       "array([232.17948718, 252.43589744, 272.69230769, 211.92307692,\n",
       "       171.41025641, 110.64102564, 292.94871795, 191.66666667,\n",
       "       536.02564103, 839.87179487, 151.15384615, 130.8974359 ,\n",
       "       353.71794872,  70.12820513, 313.20512821])"
      ]
     },
     "execution_count": 17,
     "metadata": {},
     "output_type": "execute_result"
    }
   ],
   "source": [
    "Y.Dialysis_Duration.unique()"
   ]
  },
  {
   "cell_type": "code",
   "execution_count": 25,
   "id": "c300d3cc",
   "metadata": {},
   "outputs": [],
   "source": [
    "# X_resampled.columns"
   ]
  },
  {
   "cell_type": "code",
   "execution_count": 18,
   "id": "273ded85",
   "metadata": {},
   "outputs": [
    {
     "data": {
      "text/plain": [
       "(6900000, 2)"
      ]
     },
     "execution_count": 18,
     "metadata": {},
     "output_type": "execute_result"
    }
   ],
   "source": [
    "Y.shape"
   ]
  },
  {
   "cell_type": "code",
   "execution_count": 27,
   "id": "68460cae",
   "metadata": {},
   "outputs": [
    {
     "data": {
      "image/png": "[encoded data removed]",
      "text/plain": [
       "<Figure size 640x480 with 1 Axes>"
      ]
     },
     "metadata": {},
     "output_type": "display_data"
    }
   ],
   "source": [
    "import matplotlib.pyplot as plt\n",
    "\n",
    "plt.hist(Y, bins=10)\n",
    "plt.xlabel(\"Target value\")\n",
    "plt.ylabel(\"Frequency\")\n",
    "plt.title(\"Distribution of target values\")\n",
    "plt.show()\n"
   ]
  },
  {
   "cell_type": "code",
   "execution_count": 28,
   "id": "dd1acc9e",
   "metadata": {},
   "outputs": [],
   "source": [
    "# import numpy as np\n",
    "# from sklearn.utils import resample\n",
    "# import pandas as pd\n",
    "\n",
    "# df = test_df.copy()\n",
    "# df['y'] = Y\n",
    "# # Bin into 5 quantiles based on the target\n",
    "# df['bin'] = pd.qcut(df['y'], q=5,duplicates='drop')\n",
    "\n",
    "# # Undersample all bins to match the smallest one\n",
    "# balanced_dfs = []\n",
    "# min_count = df['bin'].value_counts().min()\n",
    "\n",
    "# for b in df['bin'].unique():\n",
    "#     bin_df = df[df['bin'] == b]\n",
    "#     bin_df_downsampled = resample(bin_df, replace=False, n_samples=min_count, random_state=42)\n",
    "#     balanced_dfs.append(bin_df_downsampled)\n",
    "\n",
    "# df_balanced = pd.concat(balanced_dfs).drop(columns='bin')\n",
    "\n",
    "# # Split again into X and y\n",
    "# X_balanced = df_balanced.drop(columns='y')\n",
    "# y_balanced = df_balanced['y']\n",
    "\n"
   ]
  },
  {
   "cell_type": "code",
   "execution_count": 29,
   "id": "d5698530",
   "metadata": {},
   "outputs": [],
   "source": [
    "# from sklearn.utils import resample\n",
    "# import pandas as pd\n",
    "\n",
    "# # Find the size of the largest bin\n",
    "# max_count = df['bin'].value_counts().max()\n",
    "\n",
    "# # Oversample each bin to match the largest one\n",
    "# balanced_dfs = []\n",
    "\n",
    "# for b in df['bin'].unique():\n",
    "#     bin_df = df[df['bin'] == b]\n",
    "#     bin_df_upsampled = resample(\n",
    "#         bin_df,\n",
    "#         replace=True,  # oversample with replacement\n",
    "#         n_samples=max_count,\n",
    "#         random_state=42\n",
    "#     )\n",
    "#     balanced_dfs.append(bin_df_upsampled)\n",
    "\n",
    "# # Combine and shuffle\n",
    "# df_balanced = pd.concat(balanced_dfs).sample(frac=1, random_state=42).reset_index(drop=True)\n",
    "\n",
    "# # Final split\n",
    "# X_balanced = df_balanced.drop(columns=['y', 'bin'])\n",
    "# y_balanced = df_balanced['y']\n",
    "\n"
   ]
  },
  {
   "cell_type": "code",
   "execution_count": 30,
   "id": "7d849f33",
   "metadata": {},
   "outputs": [],
   "source": [
    "# import numpy as np\n",
    "# from sklearn.utils import resample\n",
    "# import pandas as pd\n",
    "\n",
    "# # Copy original data and add target\n",
    "# df = test_df.copy()\n",
    "# df['y'] = Y\n",
    "\n",
    "# # Bin the target into quantiles (drop duplicates if needed)\n",
    "# df['bin'] = pd.qcut(df['y'], q=5, duplicates='drop')\n",
    "\n",
    "# # Determine the balancing target: mean of bin sizes\n",
    "# bin_counts = df['bin'].value_counts()\n",
    "# target_count = int(bin_counts.mean())  # You could also use .median()\n",
    "\n",
    "# # Balance each bin\n",
    "# balanced_dfs = []\n",
    "\n",
    "# for b in df['bin'].unique():\n",
    "#     bin_df = df[df['bin'] == b]\n",
    "#     count = len(bin_df)\n",
    "    \n",
    "#     if count > target_count:\n",
    "#         # Undersample majority bin\n",
    "#         df_bal = resample(\n",
    "#             bin_df,\n",
    "#             replace=False,\n",
    "#             n_samples=target_count,\n",
    "#             random_state=42\n",
    "#         )\n",
    "#     elif count < target_count:\n",
    "#         # Oversample minority bin\n",
    "#         df_bal = resample(\n",
    "#             bin_df,\n",
    "#             replace=True,\n",
    "#             n_samples=target_count,\n",
    "#             random_state=42\n",
    "#         )\n",
    "#     else:\n",
    "#         # Keep as-is\n",
    "#         df_bal = bin_df\n",
    "    \n",
    "#     balanced_dfs.append(df_bal)\n",
    "\n",
    "# # Combine and shuffle\n",
    "# df_balanced = pd.concat(balanced_dfs).sample(frac=1, random_state=42).reset_index(drop=True)\n",
    "\n",
    "# # Final split\n",
    "# X_balanced = df_balanced.drop(columns=['y', 'bin'])\n",
    "# y_balanced = df_balanced['y']\n"
   ]
  },
  {
   "cell_type": "code",
   "execution_count": 31,
   "id": "9811a6a2",
   "metadata": {},
   "outputs": [],
   "source": [
    "# # Use quantile-based binning (e.g. 5 bins)\n",
    "# y_binned = pd.qcut(Y, q=5, labels=False,duplicates='drop')\n",
    "\n",
    "# # Check the number of samples per bin\n",
    "# print(pd.Series(y_binned).value_counts().sort_index())\n"
   ]
  },
  {
   "cell_type": "code",
   "execution_count": 32,
   "id": "1fbe656f",
   "metadata": {},
   "outputs": [],
   "source": [
    "# X_resampled.shape"
   ]
  },
  {
   "cell_type": "code",
   "execution_count": 33,
   "id": "15b1c424",
   "metadata": {},
   "outputs": [],
   "source": [
    "# Y['avg_weekly_sessions'] = X_resampled['avg_weekly_sessions']"
   ]
  },
  {
   "cell_type": "code",
   "execution_count": 34,
   "id": "38b88bdc",
   "metadata": {},
   "outputs": [],
   "source": [
    "\n",
    "# X_resampled.drop(columns=['avg_weekly_sessions'], inplace=True)"
   ]
  },
  {
   "cell_type": "code",
   "execution_count": 35,
   "id": "92020fcb",
   "metadata": {},
   "outputs": [
    {
     "data": {
      "text/html": [
       "<div>\n",
       "<style scoped>\n",
       "    .dataframe tbody tr th:only-of-type {\n",
       "        vertical-align: middle;\n",
       "    }\n",
       "\n",
       "    .dataframe tbody tr th {\n",
       "        vertical-align: top;\n",
       "    }\n",
       "\n",
       "    .dataframe thead th {\n",
       "        text-align: right;\n",
       "    }\n",
       "</style>\n",
       "<table border=\"1\" class=\"dataframe\">\n",
       "  <thead>\n",
       "    <tr style=\"text-align: right;\">\n",
       "      <th></th>\n",
       "      <th>Dialysis_Duration</th>\n",
       "      <th>session</th>\n",
       "    </tr>\n",
       "  </thead>\n",
       "  <tbody>\n",
       "    <tr>\n",
       "      <th>0</th>\n",
       "      <td>232.179487</td>\n",
       "      <td>2.717949</td>\n",
       "    </tr>\n",
       "    <tr>\n",
       "      <th>1</th>\n",
       "      <td>232.179487</td>\n",
       "      <td>2.717949</td>\n",
       "    </tr>\n",
       "    <tr>\n",
       "      <th>2</th>\n",
       "      <td>232.179487</td>\n",
       "      <td>2.717949</td>\n",
       "    </tr>\n",
       "    <tr>\n",
       "      <th>3</th>\n",
       "      <td>232.179487</td>\n",
       "      <td>2.717949</td>\n",
       "    </tr>\n",
       "    <tr>\n",
       "      <th>4</th>\n",
       "      <td>232.179487</td>\n",
       "      <td>2.717949</td>\n",
       "    </tr>\n",
       "    <tr>\n",
       "      <th>...</th>\n",
       "      <td>...</td>\n",
       "      <td>...</td>\n",
       "    </tr>\n",
       "    <tr>\n",
       "      <th>6899995</th>\n",
       "      <td>252.435897</td>\n",
       "      <td>1.487179</td>\n",
       "    </tr>\n",
       "    <tr>\n",
       "      <th>6899996</th>\n",
       "      <td>252.435897</td>\n",
       "      <td>1.487179</td>\n",
       "    </tr>\n",
       "    <tr>\n",
       "      <th>6899997</th>\n",
       "      <td>252.435897</td>\n",
       "      <td>1.487179</td>\n",
       "    </tr>\n",
       "    <tr>\n",
       "      <th>6899998</th>\n",
       "      <td>252.435897</td>\n",
       "      <td>1.487179</td>\n",
       "    </tr>\n",
       "    <tr>\n",
       "      <th>6899999</th>\n",
       "      <td>252.435897</td>\n",
       "      <td>1.487179</td>\n",
       "    </tr>\n",
       "  </tbody>\n",
       "</table>\n",
       "<p>6900000 rows × 2 columns</p>\n",
       "</div>"
      ],
      "text/plain": [
       "         Dialysis_Duration   session\n",
       "0               232.179487  2.717949\n",
       "1               232.179487  2.717949\n",
       "2               232.179487  2.717949\n",
       "3               232.179487  2.717949\n",
       "4               232.179487  2.717949\n",
       "...                    ...       ...\n",
       "6899995         252.435897  1.487179\n",
       "6899996         252.435897  1.487179\n",
       "6899997         252.435897  1.487179\n",
       "6899998         252.435897  1.487179\n",
       "6899999         252.435897  1.487179\n",
       "\n",
       "[6900000 rows x 2 columns]"
      ]
     },
     "execution_count": 35,
     "metadata": {},
     "output_type": "execute_result"
    }
   ],
   "source": [
    "Y"
   ]
  },
  {
   "cell_type": "code",
   "execution_count": 36,
   "id": "af611f95",
   "metadata": {},
   "outputs": [],
   "source": [
    "from sklearn.model_selection import train_test_split\n",
    "\n",
    "# X_train, X_val, y_train, y_val = train_test_split(X_balanced, y_balanced, test_size=0.2, random_state=42)\n"
   ]
  },
  {
   "cell_type": "code",
   "execution_count": 37,
   "id": "d2b0570a",
   "metadata": {},
   "outputs": [],
   "source": [
    "X_train, X_test, y_train, y_test= train_test_split(\n",
    "    X_resampled, Y, test_size=0.2, random_state=42\n",
    ")\n"
   ]
  },
  {
   "cell_type": "code",
   "execution_count": 38,
   "id": "4de06e67",
   "metadata": {},
   "outputs": [
    {
     "data": {
      "text/plain": [
       "(5520000, 44)"
      ]
     },
     "execution_count": 38,
     "metadata": {},
     "output_type": "execute_result"
    }
   ],
   "source": [
    "X_train.shape"
   ]
  },
  {
   "cell_type": "code",
   "execution_count": 39,
   "id": "49dd5141",
   "metadata": {},
   "outputs": [],
   "source": [
    "# from imblearn.combine import SMOTEENN\n",
    "# from imblearn.over_sampling import SMOTE\n",
    "\n",
    "# # smote_enn = SMOTEENN(smote=SMOTE(k_neighbors=3))\n",
    "# # X_res, y_res = smote_enn.fit_resample(test_df, Y)\n"
   ]
  },
  {
   "cell_type": "code",
   "execution_count": 40,
   "id": "893c364f",
   "metadata": {},
   "outputs": [],
   "source": [
    "# bin_counts = pd.Series(y_binned_train).value_counts()\n",
    "# print(bin_counts)\n"
   ]
  },
  {
   "cell_type": "code",
   "execution_count": 41,
   "id": "c61bd182",
   "metadata": {},
   "outputs": [],
   "source": [
    "# # Make sure you're using pandas Series\n",
    "# import pandas as pd\n",
    "\n",
    "# # Assuming y_binned_train is a Series\n",
    "# bin_counts = y_binned_train.value_counts()\n",
    "# print(bin_counts)\n",
    "\n",
    "# # Filter valid bins\n",
    "# min_samples_per_bin = 4\n",
    "# valid_bins = bin_counts[bin_counts >= min_samples_per_bin].index\n"
   ]
  },
  {
   "cell_type": "code",
   "execution_count": 42,
   "id": "c427c280",
   "metadata": {},
   "outputs": [],
   "source": [
    "# import numpy as np\n",
    "# from collections import Counter\n",
    "\n",
    "# print(\"Original:\", Counter(y_binned_train))\n"
   ]
  },
  {
   "cell_type": "code",
   "execution_count": 43,
   "id": "97c3dedb",
   "metadata": {},
   "outputs": [],
   "source": [
    "# from imblearn.over_sampling import RandomOverSampler\n",
    "\n",
    "# ros = RandomOverSampler()\n",
    "# X_resampled, y_resampled = ros.fit_resample(X_train, y_binned_train)\n"
   ]
  },
  {
   "cell_type": "code",
   "execution_count": 44,
   "id": "73138bae",
   "metadata": {},
   "outputs": [],
   "source": [
    "# sm = SMOTE(k_neighbors=2, random_state=42)\n",
    "\n",
    "# # Fit on X and binned y\n",
    "# X_resampled, y_binned_resampled = sm.fit_resample(X_train, y_binned_train)\n",
    "\n",
    "# # Use the original continuous y for training\n",
    "# y_resampled = sm.fit_resample(X_train, y_train)[1]  # get actual y, not the bins\n"
   ]
  },
  {
   "cell_type": "code",
   "execution_count": 45,
   "id": "1eb7a6ad",
   "metadata": {},
   "outputs": [],
   "source": [
    "# plt.hist(Y, bins=50, alpha=0.5, label='Original')\n",
    "# plt.hist(Y, bins=50, alpha=0.5, label='Resampled (SMOTE)', color='orange')\n",
    "# plt.title(\"Target Distribution Before and After SMOTE\")\n",
    "# plt.legend()\n",
    "# plt.show()\n"
   ]
  },
  {
   "cell_type": "code",
   "execution_count": 46,
   "id": "4bf18b34",
   "metadata": {},
   "outputs": [
    {
     "data": {
      "image/png": "[encoded data removed]",
      "text/plain": [
       "<Figure size 640x480 with 1 Axes>"
      ]
     },
     "metadata": {},
     "output_type": "display_data"
    }
   ],
   "source": [
    "import matplotlib.pyplot as plt\n",
    "\n",
    "plt.hist(Y, bins=50)\n",
    "plt.xlabel(\"Target value\")\n",
    "plt.ylabel(\"Frequency\")\n",
    "plt.title(\"Distribution of target values\")\n",
    "plt.show()\n"
   ]
  },
  {
   "cell_type": "code",
   "execution_count": 47,
   "id": "79678184",
   "metadata": {},
   "outputs": [
    {
     "data": {
      "text/plain": [
       "array([2.71794872, 2.66666667, 1.69230769, 2.        , 1.17948718,\n",
       "       2.41025641, 1.74358974, 2.82051282, 1.02564103, 1.48717949,\n",
       "       2.76923077, 2.51282051, 2.61538462, 1.07692308, 1.79487179,\n",
       "       2.25641026, 2.46153846, 1.33333333, 1.94871795, 2.35897436,\n",
       "       2.30769231, 2.97435897, 1.23076923, 1.8974359 , 2.20512821,\n",
       "       1.28205128, 1.58974359, 2.56410256, 1.53846154, 2.1025641 ,\n",
       "       1.12820513, 1.43589744, 1.38461538, 1.64102564, 1.84615385,\n",
       "       2.87179487, 2.92307692])"
      ]
     },
     "execution_count": 47,
     "metadata": {},
     "output_type": "execute_result"
    }
   ],
   "source": [
    "Y.session.unique()"
   ]
  },
  {
   "cell_type": "code",
   "execution_count": 48,
   "id": "0e8c46e4",
   "metadata": {},
   "outputs": [],
   "source": [
    "# import numpy as np\n",
    "# from sklearn.utils import resample\n",
    "# import pandas as pd\n",
    "\n",
    "# # Copy original data and add target\n",
    "# df = X_balanced.copy()\n",
    "# df['y'] = y_balanced\n",
    "\n",
    "# # Bin the target into quantiles (drop duplicates if needed)\n",
    "# df['bin'] = pd.qcut(df['y'], q=5, duplicates='drop')\n",
    "\n",
    "# # Determine the balancing target: mean of bin sizes\n",
    "# bin_counts = df['bin'].value_counts()\n",
    "# target_count = int(bin_counts.mean())  # You could also use .median()\n",
    "\n",
    "# # Balance each bin\n",
    "# balanced_dfs = []\n",
    "\n",
    "# for b in df['bin'].unique():\n",
    "#     bin_df = df[df['bin'] == b]\n",
    "#     count = len(bin_df)\n",
    "    \n",
    "#     if count > target_count:\n",
    "#         # Undersample majority bin\n",
    "#         df_bal = resample(\n",
    "#             bin_df,\n",
    "#             replace=False,\n",
    "#             n_samples=target_count,\n",
    "#             random_state=42\n",
    "#         )\n",
    "#     elif count < target_count:\n",
    "#         # Oversample minority bin\n",
    "#         df_bal = resample(\n",
    "#             bin_df,\n",
    "#             replace=True,\n",
    "#             n_samples=target_count,\n",
    "#             random_state=42\n",
    "#         )\n",
    "#     else:\n",
    "#         # Keep as-is\n",
    "#         df_bal = bin_df\n",
    "    \n",
    "#     balanced_dfs.append(df_bal)\n",
    "\n",
    "# # Combine and shuffle\n",
    "# df_balanced = pd.concat(balanced_dfs).sample(frac=1, random_state=42).reset_index(drop=True)\n",
    "\n",
    "# # Final split\n",
    "# X_balanced = df_balanced.drop(columns=['y', 'bin'])\n",
    "# y_balanced = df_balanced['y']\n"
   ]
  },
  {
   "cell_type": "code",
   "execution_count": 49,
   "id": "53aec4b7",
   "metadata": {},
   "outputs": [],
   "source": [
    "input = X_train.shape[1]"
   ]
  },
  {
   "cell_type": "code",
   "execution_count": 50,
   "id": "5d08ad54",
   "metadata": {},
   "outputs": [
    {
     "data": {
      "text/plain": [
       "44"
      ]
     },
     "execution_count": 50,
     "metadata": {},
     "output_type": "execute_result"
    }
   ],
   "source": [
    "input"
   ]
  },
  {
   "cell_type": "code",
   "execution_count": null,
   "id": "84b0caa9",
   "metadata": {},
   "outputs": [],
   "source": [
    "model = ..."
   ]
  },
  {
   "cell_type": "code",
   "execution_count": 52,
   "id": "762d526c",
   "metadata": {},
   "outputs": [],
   "source": [
    "from sklearn.preprocessing import StandardScaler\n",
    "\n",
    "scaler = StandardScaler()\n",
    "scaler_y = StandardScaler()\n",
    "\n",
    "X_train_scaled = scaler.fit_transform(X_train)\n",
    "X_val_scaled = scaler.transform(X_test)\n",
    "Y_train_scaled = scaler_y.fit_transform(y_train)\n",
    "Y_val_scaled = scaler_y.transform(y_test)\n",
    "\n"
   ]
  },
  {
   "cell_type": "code",
   "execution_count": 53,
   "id": "0920ebdb",
   "metadata": {},
   "outputs": [
    {
     "name": "stderr",
     "output_type": "stream",
     "text": [
      "<>:4: SyntaxWarning: invalid escape sequence '\\s'\n",
      "<>:5: SyntaxWarning: invalid escape sequence '\\s'\n",
      "<>:4: SyntaxWarning: invalid escape sequence '\\s'\n",
      "<>:5: SyntaxWarning: invalid escape sequence '\\s'\n",
      "C:\\Users\\omarr\\AppData\\Local\\Temp\\ipykernel_23736\\1303523403.py:4: SyntaxWarning: invalid escape sequence '\\s'\n",
      "  joblib.dump(scaler, 'try4\\scalerX.pkl')\n",
      "C:\\Users\\omarr\\AppData\\Local\\Temp\\ipykernel_23736\\1303523403.py:5: SyntaxWarning: invalid escape sequence '\\s'\n",
      "  joblib.dump(scaler_y, 'try4\\scalerY.pkl')\n"
     ]
    },
    {
     "data": {
      "text/plain": [
       "['try4\\\\scalerY.pkl']"
      ]
     },
     "execution_count": 53,
     "metadata": {},
     "output_type": "execute_result"
    }
   ],
   "source": [
    "import joblib\n",
    "\n",
    "# Sauvegarder le modèle\n",
    "joblib.dump(scaler, 'try4\\scalerX.pkl')\n",
    "joblib.dump(scaler_y, 'try4\\scalerY.pkl')"
   ]
  },
  {
   "cell_type": "code",
   "execution_count": null,
   "id": "e5183686",
   "metadata": {},
   "outputs": [],
   "source": [
    "criterion = nn.MSELoss()\n",
    "\n",
    "optimizer = torch.optim.Adam(model.parameters(),  lr=1e-5,weight_decay=1e-5)\n"
   ]
  },
  {
   "cell_type": "code",
   "execution_count": 55,
   "id": "80df451a",
   "metadata": {},
   "outputs": [
    {
     "name": "stdout",
     "output_type": "stream",
     "text": [
      "<class 'pandas.core.frame.DataFrame'>\n",
      "<class 'pandas.core.frame.DataFrame'>\n"
     ]
    }
   ],
   "source": [
    "print(type(X_train))\n",
    "print(type(y_train))\n"
   ]
  },
  {
   "cell_type": "code",
   "execution_count": null,
   "id": "c84754da",
   "metadata": {},
   "outputs": [],
   "source": []
  },
  {
   "cell_type": "code",
   "execution_count": 56,
   "id": "2307d7d9",
   "metadata": {},
   "outputs": [
    {
     "data": {
      "text/html": [
       "<div>\n",
       "<style scoped>\n",
       "    .dataframe tbody tr th:only-of-type {\n",
       "        vertical-align: middle;\n",
       "    }\n",
       "\n",
       "    .dataframe tbody tr th {\n",
       "        vertical-align: top;\n",
       "    }\n",
       "\n",
       "    .dataframe thead th {\n",
       "        text-align: right;\n",
       "    }\n",
       "</style>\n",
       "<table border=\"1\" class=\"dataframe\">\n",
       "  <thead>\n",
       "    <tr style=\"text-align: right;\">\n",
       "      <th></th>\n",
       "      <th>Dialysis_Duration</th>\n",
       "      <th>session</th>\n",
       "    </tr>\n",
       "  </thead>\n",
       "  <tbody>\n",
       "    <tr>\n",
       "      <th>6586774</th>\n",
       "      <td>252.435897</td>\n",
       "      <td>2.820513</td>\n",
       "    </tr>\n",
       "    <tr>\n",
       "      <th>4872006</th>\n",
       "      <td>232.179487</td>\n",
       "      <td>2.769231</td>\n",
       "    </tr>\n",
       "    <tr>\n",
       "      <th>4071181</th>\n",
       "      <td>232.179487</td>\n",
       "      <td>1.897436</td>\n",
       "    </tr>\n",
       "    <tr>\n",
       "      <th>167583</th>\n",
       "      <td>272.692308</td>\n",
       "      <td>1.692308</td>\n",
       "    </tr>\n",
       "    <tr>\n",
       "      <th>3968673</th>\n",
       "      <td>232.179487</td>\n",
       "      <td>1.794872</td>\n",
       "    </tr>\n",
       "    <tr>\n",
       "      <th>...</th>\n",
       "      <td>...</td>\n",
       "      <td>...</td>\n",
       "    </tr>\n",
       "    <tr>\n",
       "      <th>4304572</th>\n",
       "      <td>232.179487</td>\n",
       "      <td>2.205128</td>\n",
       "    </tr>\n",
       "    <tr>\n",
       "      <th>1692743</th>\n",
       "      <td>171.410256</td>\n",
       "      <td>1.948718</td>\n",
       "    </tr>\n",
       "    <tr>\n",
       "      <th>6550634</th>\n",
       "      <td>252.435897</td>\n",
       "      <td>2.820513</td>\n",
       "    </tr>\n",
       "    <tr>\n",
       "      <th>6423388</th>\n",
       "      <td>252.435897</td>\n",
       "      <td>2.666667</td>\n",
       "    </tr>\n",
       "    <tr>\n",
       "      <th>6413414</th>\n",
       "      <td>252.435897</td>\n",
       "      <td>2.666667</td>\n",
       "    </tr>\n",
       "  </tbody>\n",
       "</table>\n",
       "<p>5520000 rows × 2 columns</p>\n",
       "</div>"
      ],
      "text/plain": [
       "         Dialysis_Duration   session\n",
       "6586774         252.435897  2.820513\n",
       "4872006         232.179487  2.769231\n",
       "4071181         232.179487  1.897436\n",
       "167583          272.692308  1.692308\n",
       "3968673         232.179487  1.794872\n",
       "...                    ...       ...\n",
       "4304572         232.179487  2.205128\n",
       "1692743         171.410256  1.948718\n",
       "6550634         252.435897  2.820513\n",
       "6423388         252.435897  2.666667\n",
       "6413414         252.435897  2.666667\n",
       "\n",
       "[5520000 rows x 2 columns]"
      ]
     },
     "execution_count": 56,
     "metadata": {},
     "output_type": "execute_result"
    }
   ],
   "source": [
    "y_train"
   ]
  },
  {
   "cell_type": "code",
   "execution_count": 57,
   "id": "a988648c",
   "metadata": {},
   "outputs": [],
   "source": [
    "from torch.utils.data import DataLoader, TensorDataset\n",
    "# Create datasets and loaders\n",
    "import torch\n",
    "\n",
    "X_train_test = torch.tensor(X_train_scaled, dtype=torch.float32)\n",
    "y_train_test = torch.tensor(Y_train_scaled, dtype=torch.float32)\n",
    "\n",
    "train_dataset = TensorDataset(X_train_test, y_train_test)\n",
    "\n",
    "\n",
    "X_val_test = torch.tensor(X_val_scaled, dtype=torch.float32)\n",
    "y_val_test = torch.tensor(Y_val_scaled, dtype=torch.float32)\n",
    "\n",
    "val_dataset = TensorDataset(X_val_test, y_val_test)\n",
    "\n",
    "train_loader = DataLoader(train_dataset, batch_size=32, shuffle=True)\n",
    "val_loader = DataLoader(val_dataset, batch_size=32)"
   ]
  },
  {
   "cell_type": "code",
   "execution_count": 58,
   "id": "8c423dce",
   "metadata": {},
   "outputs": [],
   "source": [
    "from sklearn.metrics import mean_absolute_error, r2_score\n"
   ]
  },
  {
   "cell_type": "code",
   "execution_count": 85,
   "id": "2d45b98c",
   "metadata": {},
   "outputs": [
    {
     "name": "stdout",
     "output_type": "stream",
     "text": [
      "\n",
      " Epoch 1, Train Loss: 0.0586, Val Loss: 0.0583, Train MAE: 0.1601, Val MAE: 0.1602, Train R²: 0.9421, Val R²: 0.9417\n",
      " duration :\n",
      "Train Loss: 0.0569, Val Loss: 0.0563, Train MAE: 0.0360, Val MAE: 0.0689, Train R²: 0.9758, Val R²: 0.9817\n",
      " session :\n",
      "Train Loss: 0.0580, Val Loss: 0.0569, Train MAE: 0.1964, Val MAE: 0.2470, Train R²: 0.9328, Val R²: 0.8726\n",
      "\n",
      " Epoch 2, Train Loss: 0.0582, Val Loss: 0.0579, Train MAE: 0.1594, Val MAE: 0.1595, Train R²: 0.9425, Val R²: 0.9421\n",
      " duration :\n",
      "Train Loss: 0.0570, Val Loss: 0.0564, Train MAE: 0.1676, Val MAE: 0.0725, Train R²: -1.8060, Val R²: 0.9833\n",
      " session :\n",
      "Train Loss: 0.0579, Val Loss: 0.0561, Train MAE: 0.1495, Val MAE: 0.1503, Train R²: 0.6591, Val R²: 0.9529\n",
      "\n",
      " Epoch 3, Train Loss: 0.0577, Val Loss: 0.0575, Train MAE: 0.1588, Val MAE: 0.1589, Train R²: 0.9429, Val R²: 0.9425\n",
      " duration :\n",
      "Train Loss: 0.0556, Val Loss: 0.0553, Train MAE: 0.0446, Val MAE: 0.2998, Train R²: 0.9974, Val R²: 0.7133\n",
      " session :\n",
      "Train Loss: 0.0576, Val Loss: 0.0561, Train MAE: 0.1054, Val MAE: 0.0321, Train R²: 0.7894, Val R²: 0.9976\n",
      "\n",
      " Epoch 4, Train Loss: 0.0573, Val Loss: 0.0571, Train MAE: 0.1582, Val MAE: 0.1583, Train R²: 0.9433, Val R²: 0.9429\n",
      " duration :\n",
      "Train Loss: 0.0555, Val Loss: 0.0554, Train MAE: 0.0680, Val MAE: 0.3575, Train R²: 0.9744, Val R²: 0.5764\n",
      " session :\n",
      "Train Loss: 0.0572, Val Loss: 0.0558, Train MAE: 0.0700, Val MAE: 0.0513, Train R²: 0.9725, Val R²: 0.9946\n",
      "\n",
      " Epoch 5, Train Loss: 0.0569, Val Loss: 0.0567, Train MAE: 0.1577, Val MAE: 0.1579, Train R²: 0.9437, Val R²: 0.9433\n",
      " duration :\n",
      "Train Loss: 0.0550, Val Loss: 0.0550, Train MAE: 0.2393, Val MAE: 0.1735, Train R²: -423.7056, Val R²: 0.8878\n",
      " session :\n",
      "Train Loss: 0.0571, Val Loss: 0.0557, Train MAE: 0.1454, Val MAE: 0.1226, Train R²: 0.9645, Val R²: 0.9584\n",
      "\n",
      " Epoch 6, Train Loss: 0.0565, Val Loss: 0.0563, Train MAE: 0.1572, Val MAE: 0.1574, Train R²: 0.9441, Val R²: 0.9437\n",
      " duration :\n",
      "Train Loss: 0.0554, Val Loss: 0.0550, Train MAE: 0.1408, Val MAE: 0.1902, Train R²: 0.8558, Val R²: 0.8371\n",
      " session :\n",
      "Train Loss: 0.0567, Val Loss: 0.0548, Train MAE: 0.1053, Val MAE: 0.0998, Train R²: 0.7566, Val R²: 0.9781\n",
      "\n",
      " Epoch 7, Train Loss: 0.0561, Val Loss: 0.0561, Train MAE: 0.1567, Val MAE: 0.1569, Train R²: 0.9445, Val R²: 0.9439\n",
      " duration :\n",
      "Train Loss: 0.0548, Val Loss: 0.0544, Train MAE: 0.0770, Val MAE: 0.1869, Train R²: 0.9432, Val R²: 0.8976\n",
      " session :\n",
      "Train Loss: 0.0561, Val Loss: 0.0552, Train MAE: 0.0274, Val MAE: 0.1126, Train R²: 0.9988, Val R²: 0.9544\n",
      "\n",
      " Epoch 8, Train Loss: 0.0558, Val Loss: 0.0555, Train MAE: 0.1562, Val MAE: 0.1562, Train R²: 0.9449, Val R²: 0.9445\n",
      " duration :\n",
      "Train Loss: 0.0547, Val Loss: 0.0539, Train MAE: 0.2232, Val MAE: 0.1442, Train R²: -1.1497, Val R²: 0.9363\n",
      " session :\n",
      "Train Loss: 0.0562, Val Loss: 0.0544, Train MAE: 0.0859, Val MAE: 0.2321, Train R²: 0.9823, Val R²: 0.8509\n",
      "\n",
      " Epoch 9, Train Loss: 0.0554, Val Loss: 0.0552, Train MAE: 0.1557, Val MAE: 0.1558, Train R²: 0.9452, Val R²: 0.9448\n",
      " duration :\n",
      "Train Loss: 0.0539, Val Loss: 0.0539, Train MAE: 0.0877, Val MAE: 0.1528, Train R²: 0.8541, Val R²: 0.9261\n",
      " session :\n",
      "Train Loss: 0.0553, Val Loss: 0.0538, Train MAE: 0.0599, Val MAE: 0.0957, Train R²: 0.9930, Val R²: 0.9789\n",
      "\n",
      " Epoch 10, Train Loss: 0.0551, Val Loss: 0.0550, Train MAE: 0.1553, Val MAE: 0.1555, Train R²: 0.9455, Val R²: 0.9450\n",
      " duration :\n",
      "Train Loss: 0.0534, Val Loss: 0.0531, Train MAE: 0.0944, Val MAE: 0.3406, Train R²: 0.9714, Val R²: 0.5712\n",
      " session :\n",
      "Train Loss: 0.0548, Val Loss: 0.0535, Train MAE: 0.2437, Val MAE: 0.2561, Train R²: -8.1812, Val R²: 0.8649\n"
     ]
    },
    {
     "data": {
      "text/plain": [
       "<All keys matched successfully>"
      ]
     },
     "execution_count": 85,
     "metadata": {},
     "output_type": "execute_result"
    }
   ],
   "source": [
    "import copy\n",
    "\n",
    "epochs = 10\n",
    "best_val_loss = float(\"inf\")\n",
    "patience = 5\n",
    "counter = 0\n",
    "best_model_wts = copy.deepcopy(model.state_dict())\n",
    "history = pd.DataFrame()\n",
    "\n",
    "train_history=[]\n",
    "val_history=[]\n",
    "\n",
    "\n",
    "alpha = 0.5  # weight for duration\n",
    "beta = 0.5   # weight for session\n",
    "\n",
    "for epoch in range(epochs):\n",
    "    model.train()\n",
    "    train_loss = 0.0\n",
    "    session_train_loss=0.0\n",
    "    duration_train_loss=0.0\n",
    "    train_preds = []\n",
    "    train_targets = []\n",
    "\n",
    "\n",
    "    for X_batch, y_batch in train_loader:\n",
    "        optimizer.zero_grad()\n",
    "        outputs = model(X_batch)\n",
    "        loss = criterion(outputs, y_batch)\n",
    "        \n",
    "        train_loss += loss.item()\n",
    "        # loss = criterion(outputs, y_batch)\n",
    "\n",
    "        session_loss = criterion(outputs[1],y_batch[1])\n",
    "        duration_loss = criterion(outputs[0],y_batch[0])\n",
    "\n",
    "        session_train_loss += session_loss.item()\n",
    "        duration_train_loss += duration_loss.item()\n",
    "\n",
    "        loss = alpha * duration_loss + beta * session_loss\n",
    "\n",
    "        loss.backward()\n",
    "        optimizer.step()\n",
    "\n",
    "\n",
    "\n",
    "\n",
    "\n",
    "        train_preds.append(outputs.cpu())\n",
    "        train_targets.append(y_batch.cpu())\n",
    "\n",
    "\n",
    "\n",
    "\n",
    "\n",
    "    train_preds = torch.cat(train_preds).detach().numpy()\n",
    "    train_targets = torch.cat(train_targets).detach().numpy()\n",
    "    \n",
    "\n",
    "    train_mae = mean_absolute_error(train_targets, train_preds)\n",
    "    train_r2 = r2_score(train_targets, train_preds)\n",
    "\n",
    "    train_history.append(train_r2)\n",
    "\n",
    "    train_loss /= len(train_loader)\n",
    "    session_train_loss /= len(train_loader)\n",
    "    duration_train_loss /= len(train_loader)\n",
    "\n",
    "    \n",
    "\n",
    "    session_train_r2 = r2_score(train_targets[1], train_preds[1])\n",
    "    session_train_mae = mean_absolute_error(train_targets[1], train_preds[1])\n",
    "    \n",
    "    duration_train_mae = mean_absolute_error(train_targets[0], train_preds[0])\n",
    "    duration_train_r2 = r2_score(train_targets[0], train_preds[0])\n",
    "\n",
    "\n",
    "\n",
    "\n",
    "    val_preds = []\n",
    "    val_targets = []\n",
    "    val_loss = 0.0\n",
    "    session_val_loss=0.0\n",
    "    duration_val_loss=0.0\n",
    "\n",
    "    with torch.no_grad():\n",
    "        for X_batch, y_batch in val_loader:\n",
    "            outputs = model(X_batch)\n",
    "            loss = criterion(outputs, y_batch)\n",
    "            session_loss = criterion(outputs[1],y_batch[1])\n",
    "            duration_loss = criterion(outputs[0],y_batch[0])\n",
    "            val_loss += loss.item()\n",
    "            session_val_loss += session_loss.item()\n",
    "            duration_val_loss += duration_loss.item()\n",
    "\n",
    "            val_preds.append(outputs.cpu())\n",
    "            val_targets.append(y_batch.cpu())\n",
    "\n",
    "    val_loss /= len(val_loader)\n",
    "    session_val_loss /= len(val_loader)\n",
    "    duration_val_loss /= len(val_loader)\n",
    "\n",
    "    val_preds = torch.cat(val_preds).detach().numpy()\n",
    "    val_targets = torch.cat(val_targets).detach().numpy()\n",
    "\n",
    "    val_mae = mean_absolute_error(val_targets, val_preds)\n",
    "    val_r2 = r2_score(val_targets, val_preds)\n",
    "    \n",
    "    val_history.append(val_r2)\n",
    "\n",
    "\n",
    "    session_val_r2 = r2_score(val_targets[1], val_preds[1])\n",
    "    session_val_mae = mean_absolute_error(val_targets[1], val_preds[1])\n",
    "    \n",
    "    duration_val_mae = mean_absolute_error(val_targets[0], val_preds[0])\n",
    "    duration_val_r2 = r2_score(val_targets[0], val_preds[0])\n",
    "\n",
    "    # # Evaluate\n",
    "    # model.eval()\n",
    "    # val_loss = 0.0\n",
    "    # with torch.no_grad():\n",
    "    #     for X_batch, y_batch in val_loader:\n",
    "    #         outputs = model(X_batch)\n",
    "    #         loss = criterion(outputs, y_batch)\n",
    "    #         val_loss += loss.item()\n",
    "    # val_loss /= len(val_loader)\n",
    "\n",
    "    # print(f\"Epoch {epoch+1}, Train Loss: {train_loss:.4f}, Val Loss: {val_loss:.4f}\")\n",
    "    print(f\"\\n Epoch {epoch+1}, \"\n",
    "    f\"Train Loss: {train_loss:.4f}, Val Loss: {val_loss:.4f}, \"\n",
    "    f\"Train MAE: {train_mae:.4f}, Val MAE: {val_mae:.4f}, \"\n",
    "    f\"Train R²: {train_r2:.4f}, Val R²: {val_r2:.4f}\"\n",
    "    f\"\\n duration :\\n\"\n",
    "    f\"Train Loss: {duration_train_loss:.4f}, Val Loss: {duration_val_loss:.4f}, \"\n",
    "    f\"Train MAE: {duration_train_mae:.4f}, Val MAE: {duration_val_mae:.4f}, \"\n",
    "    f\"Train R²: {duration_train_r2:.4f}, Val R²: {duration_val_r2:.4f}\" \n",
    "    f\"\\n session :\\n\"\n",
    "    f\"Train Loss: {session_train_loss:.4f}, Val Loss: {session_val_loss:.4f}, \"\n",
    "    f\"Train MAE: {session_train_mae:.4f}, Val MAE: {session_val_mae:.4f}, \"\n",
    "    f\"Train R²: {session_train_r2:.4f}, Val R²: {session_val_r2:.4f}\" \n",
    "    )\n",
    "\n",
    "    # Early stopping\n",
    "    if val_loss < best_val_loss:\n",
    "        best_val_loss = val_loss\n",
    "        best_model_wts = copy.deepcopy(model.state_dict())\n",
    "        counter = 0\n",
    "    else:\n",
    "        counter += 1\n",
    "        if counter >= patience:\n",
    "            print(\"Early stopping triggered.\")\n",
    "            break\n",
    "\n",
    "# Load best model\n",
    "model.load_state_dict(best_model_wts)\n"
   ]
  },
  {
   "cell_type": "code",
   "execution_count": 86,
   "id": "3003a266",
   "metadata": {},
   "outputs": [
    {
     "data": {
      "image/png": "[encoded data removed]",
      "text/plain": [
       "<Figure size 640x480 with 1 Axes>"
      ]
     },
     "metadata": {},
     "output_type": "display_data"
    }
   ],
   "source": [
    "import matplotlib.pyplot as plt\n",
    "\n",
    "# Suppose 'history' is the result of model.fit(...)\n",
    "# e.g., history = model.fit(X_train, y_train, epochs=20, validation_data=(X_val, y_val))\n",
    "\n",
    "plt.plot(train_history, label='Training Accuracy')\n",
    "plt.plot(val_history, label='Validation Accuracy')\n",
    "plt.xlabel('Epoch')\n",
    "plt.ylabel('Accuracy')\n",
    "plt.title('Model Accuracy per Epoch')\n",
    "plt.legend()\n",
    "plt.grid(True)\n",
    "plt.show()\n"
   ]
  },
  {
   "cell_type": "code",
   "execution_count": 87,
   "id": "91ff133b",
   "metadata": {},
   "outputs": [],
   "source": [
    "model.eval()\n",
    "with torch.no_grad():\n",
    "    \n",
    "    X_val_test = torch.tensor(X_val_scaled, dtype=torch.float32)\n",
    "    preds = model(X_val_test).numpy()\n",
    "    preds = scaler_y.inverse_transform(preds)  # Convert back to real values\n",
    "    y_val_test = torch.tensor(y_test.values, dtype=torch.float32)\n",
    "    actuals =y_val_test.numpy()\n"
   ]
  },
  {
   "cell_type": "code",
   "execution_count": 88,
   "id": "e9344550",
   "metadata": {},
   "outputs": [
    {
     "name": "stdout",
     "output_type": "stream",
     "text": [
      "MAE: 3.2749255\n",
      "RMSE: 6.8234043\n",
      "R² Score: 0.9719722270965576\n"
     ]
    }
   ],
   "source": [
    "from sklearn.metrics import mean_absolute_error, mean_squared_error, r2_score\n",
    "\n",
    "print(\"MAE:\", mean_absolute_error(actuals, preds))\n",
    "print(\"RMSE:\", np.sqrt(mean_squared_error(actuals, preds)))\n",
    "print(\"R² Score:\", r2_score(actuals, preds))\n"
   ]
  },
  {
   "cell_type": "code",
   "execution_count": 89,
   "id": "3ca122e4",
   "metadata": {},
   "outputs": [],
   "source": [
    "check = actuals - preds"
   ]
  },
  {
   "cell_type": "code",
   "execution_count": 90,
   "id": "e81043e0",
   "metadata": {},
   "outputs": [
    {
     "data": {
      "text/plain": [
       "np.float32(-354.82086)"
      ]
     },
     "execution_count": 90,
     "metadata": {},
     "output_type": "execute_result"
    }
   ],
   "source": [
    "check.min()"
   ]
  },
  {
   "cell_type": "code",
   "execution_count": 91,
   "id": "a2be52dd",
   "metadata": {},
   "outputs": [
    {
     "data": {
      "text/plain": [
       "array([[-1.6495605e+01, -2.8379202e-02],\n",
       "       [ 4.8397827e+00, -6.9871664e-02],\n",
       "       [ 2.4899139e+00,  1.6883957e-01],\n",
       "       ...,\n",
       "       [ 2.0800781e-01, -5.9890747e-03],\n",
       "       [ 6.5316467e+00,  2.4035454e-02],\n",
       "       [ 6.0176086e+00, -6.6946268e-02]], dtype=float32)"
      ]
     },
     "execution_count": 91,
     "metadata": {},
     "output_type": "execute_result"
    }
   ],
   "source": [
    "check"
   ]
  },
  {
   "cell_type": "code",
   "execution_count": 92,
   "id": "9fc24ca5",
   "metadata": {},
   "outputs": [],
   "source": [
    "check_df = pd.DataFrame(check)"
   ]
  },
  {
   "cell_type": "code",
   "execution_count": 93,
   "id": "9608177a",
   "metadata": {},
   "outputs": [
    {
     "data": {
      "text/html": [
       "<div>\n",
       "<style scoped>\n",
       "    .dataframe tbody tr th:only-of-type {\n",
       "        vertical-align: middle;\n",
       "    }\n",
       "\n",
       "    .dataframe tbody tr th {\n",
       "        vertical-align: top;\n",
       "    }\n",
       "\n",
       "    .dataframe thead th {\n",
       "        text-align: right;\n",
       "    }\n",
       "</style>\n",
       "<table border=\"1\" class=\"dataframe\">\n",
       "  <thead>\n",
       "    <tr style=\"text-align: right;\">\n",
       "      <th></th>\n",
       "      <th>0</th>\n",
       "      <th>1</th>\n",
       "    </tr>\n",
       "  </thead>\n",
       "  <tbody>\n",
       "    <tr>\n",
       "      <th>count</th>\n",
       "      <td>1.380000e+06</td>\n",
       "      <td>1.380000e+06</td>\n",
       "    </tr>\n",
       "    <tr>\n",
       "      <th>mean</th>\n",
       "      <td>6.804603e-03</td>\n",
       "      <td>9.919499e-04</td>\n",
       "    </tr>\n",
       "    <tr>\n",
       "      <th>std</th>\n",
       "      <td>9.654202e+00</td>\n",
       "      <td>1.275807e-01</td>\n",
       "    </tr>\n",
       "    <tr>\n",
       "      <th>min</th>\n",
       "      <td>-3.548209e+02</td>\n",
       "      <td>-1.658766e+00</td>\n",
       "    </tr>\n",
       "    <tr>\n",
       "      <th>25%</th>\n",
       "      <td>-4.106693e+00</td>\n",
       "      <td>-2.978411e-02</td>\n",
       "    </tr>\n",
       "    <tr>\n",
       "      <th>50%</th>\n",
       "      <td>2.265396e-01</td>\n",
       "      <td>8.004904e-05</td>\n",
       "    </tr>\n",
       "    <tr>\n",
       "      <th>75%</th>\n",
       "      <td>4.712433e+00</td>\n",
       "      <td>2.833056e-02</td>\n",
       "    </tr>\n",
       "    <tr>\n",
       "      <th>max</th>\n",
       "      <td>9.978535e+01</td>\n",
       "      <td>1.543863e+00</td>\n",
       "    </tr>\n",
       "  </tbody>\n",
       "</table>\n",
       "</div>"
      ],
      "text/plain": [
       "                  0             1\n",
       "count  1.380000e+06  1.380000e+06\n",
       "mean   6.804603e-03  9.919499e-04\n",
       "std    9.654202e+00  1.275807e-01\n",
       "min   -3.548209e+02 -1.658766e+00\n",
       "25%   -4.106693e+00 -2.978411e-02\n",
       "50%    2.265396e-01  8.004904e-05\n",
       "75%    4.712433e+00  2.833056e-02\n",
       "max    9.978535e+01  1.543863e+00"
      ]
     },
     "execution_count": 93,
     "metadata": {},
     "output_type": "execute_result"
    }
   ],
   "source": [
    "check_df.describe()"
   ]
  },
  {
   "cell_type": "code",
   "execution_count": 94,
   "id": "9fa3f411",
   "metadata": {},
   "outputs": [
    {
     "data": {
      "text/plain": [
       "0            1        \n",
       " 4.979736    -0.035623    2\n",
       "-145.162643   0.009512    1\n",
       " 99.785355    0.339529    1\n",
       "-354.820862  -0.005212    1\n",
       "-348.725891   0.006634    1\n",
       "                         ..\n",
       "-131.360275   0.052904    1\n",
       "-131.072647   0.344955    1\n",
       "-131.006729   0.318562    1\n",
       "-130.660477   1.335684    1\n",
       " 80.354309    0.074775    1\n",
       "Name: count, Length: 1379999, dtype: int64"
      ]
     },
     "execution_count": 94,
     "metadata": {},
     "output_type": "execute_result"
    }
   ],
   "source": [
    "check_df.sort_values(by=0).value_counts()"
   ]
  },
  {
   "cell_type": "code",
   "execution_count": 95,
   "id": "a7449065",
   "metadata": {},
   "outputs": [
    {
     "data": {
      "image/png": "[encoded data removed]",
      "text/plain": [
       "<Figure size 640x480 with 1 Axes>"
      ]
     },
     "metadata": {},
     "output_type": "display_data"
    }
   ],
   "source": [
    "import matplotlib.pyplot as plt\n",
    "\n",
    "plt.hist(check_df, bins=50)\n",
    "plt.xlabel(\"Target value\")\n",
    "plt.ylabel(\"Frequency\")\n",
    "plt.title(\"Distribution of target values\")\n",
    "plt.show()\n"
   ]
  },
  {
   "cell_type": "code",
   "execution_count": 97,
   "id": "3c27f2d0",
   "metadata": {},
   "outputs": [
    {
     "name": "stderr",
     "output_type": "stream",
     "text": [
      "<>:4: SyntaxWarning: invalid escape sequence '\\c'\n",
      "<>:4: SyntaxWarning: invalid escape sequence '\\c'\n",
      "C:\\Users\\omarr\\AppData\\Local\\Temp\\ipykernel_23736\\489570558.py:4: SyntaxWarning: invalid escape sequence '\\c'\n",
      "  joblib.dump(model, 'try4\\cnn_try_data_final sampling_50k.pkl')\n"
     ]
    },
    {
     "data": {
      "text/plain": [
       "['try4\\\\cnn_try_data_final sampling_50k.pkl']"
      ]
     },
     "execution_count": 97,
     "metadata": {},
     "output_type": "execute_result"
    }
   ],
   "source": [
    "import joblib\n",
    "\n",
    "# Sauvegarder le modèle\n",
    "joblib.dump(model, 'try4\\cnn_try_data_final sampling_50k.pkl')"
   ]
  }
 ],
 "metadata": {
  "kernelspec": {
   "display_name": "Python 3",
   "language": "python",
   "name": "python3"
  },
  "language_info": {
   "codemirror_mode": {
    "name": "ipython",
    "version": 3
   },
   "file_extension": ".py",
   "mimetype": "text/x-python",
   "name": "python",
   "nbconvert_exporter": "python",
   "pygments_lexer": "ipython3",
   "version": "3.12.10"
  }
 },
 "nbformat": 4,
 "nbformat_minor": 5
}
